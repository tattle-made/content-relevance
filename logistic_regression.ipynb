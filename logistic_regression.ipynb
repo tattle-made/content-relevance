{
 "cells": [
  {
   "cell_type": "markdown",
   "metadata": {},
   "source": [
    "# Regression analysis - Sharechat annotated claims dataset\n",
    "\n",
    "Research - https://arxiv.org/abs/2010.13387\n",
    "\n",
    "### Steps\n",
    "\n",
    "1. Loading and combining annotated data files\n",
    "2. Engineering new features using Optical Character Recognition, Named Entity Recognition etc\n",
    "3. Train test split \n",
    "4. Missing value imputation\n",
    "5. Standardizing numeric variables\n",
    "6. Dummifying categorical variables\n",
    "7. Building and evaluating a logistic regression model\n",
    "8. Plotting learning curves and comparing with other models"
   ]
  },
  {
   "cell_type": "code",
   "execution_count": 406,
   "metadata": {},
   "outputs": [],
   "source": [
    "import sys\n",
    "import matplotlib.pyplot as plt\n",
    "import sklearn\n",
    "from sklearn.metrics import confusion_matrix\n",
    "import os\n",
    "import numpy as np\n",
    "import re\n",
    "import string\n",
    "from pprint import pprint\n",
    "import json\n",
    "from sklearn.utils import shuffle\n",
    "from sklearn.model_selection import train_test_split\n",
    "from sklearn.preprocessing import StandardScaler, LabelEncoder, MinMaxScaler\n",
    "from sklearn.impute import SimpleImputer\n",
    "import random\n",
    "import pandas as pd\n",
    "from dotenv import load_dotenv\n",
    "load_dotenv()\n",
    "import requests\n",
    "import logging\n",
    "from datetime import datetime, timedelta\n",
    "import time\n",
    "import spacy\n",
    "nlp = spacy.load(\"en_core_web_sm\")\n",
    "from googletrans import Translator\n",
    "import time\n",
    "from time import perf_counter\n",
    "from random import uniform\n",
    "import emoji\n",
    "from sklearn.linear_model import LogisticRegression\n",
    "import statsmodels.api as sm\n",
    "from sklearn.metrics import classification_report\n",
    "from sklearn.metrics import roc_auc_score\n",
    "from sklearn.metrics import roc_curve\n",
    "pd.options.mode.chained_assignment = None\n",
    "from sklearn.model_selection import learning_curve\n",
    "from sklearn.model_selection import ShuffleSplit\n",
    "from sklearn.svm import SVC\n",
    "from sklearn.ensemble import RandomForestClassifier\n",
    "from xgboost import XGBClassifier\n",
    "from xgboost import to_graphviz\n",
    "from sklearn.tree import export_graphviz\n",
    "import scipy\n",
    "from google.cloud import translate_v2 as translate\n",
    "import wget\n",
    "from google.cloud import vision\n",
    "from google.protobuf.json_format import MessageToJson\n",
    "import requests\n",
    "from PIL import Image\n",
    "import io\n",
    "from io import BytesIO"
   ]
  },
  {
   "cell_type": "markdown",
   "metadata": {},
   "source": [
    "## Load data"
   ]
  },
  {
   "cell_type": "code",
   "execution_count": 505,
   "metadata": {},
   "outputs": [],
   "source": [
    "ind = pd.read_csv(os.environ.get(\"ANNOTATION_IND\"))\n",
    "group1 = pd.read_csv(os.environ.get(\"ANNOTATION_GRP1\"))\n",
    "group2 = pd.read_csv(os.environ.get(\"ANNOTATION_GRP2\"))"
   ]
  },
  {
   "cell_type": "code",
   "execution_count": 506,
   "metadata": {},
   "outputs": [],
   "source": [
    "df = ind.append(group1).append(group2)"
   ]
  },
  {
   "cell_type": "code",
   "execution_count": 507,
   "metadata": {},
   "outputs": [],
   "source": [
    "df.reset_index(drop=True, inplace=True)"
   ]
  },
  {
   "cell_type": "code",
   "execution_count": 508,
   "metadata": {},
   "outputs": [],
   "source": [
    "df.to_csv(\"sharechat_annotated_zenodo.csv\")"
   ]
  },
  {
   "cell_type": "code",
   "execution_count": 509,
   "metadata": {},
   "outputs": [],
   "source": [
    "def claims(data):\n",
    "    if \"Yes\" in str(data):\n",
    "        return 1\n",
    "    else:\n",
    "        return 0"
   ]
  },
  {
   "cell_type": "code",
   "execution_count": 510,
   "metadata": {},
   "outputs": [],
   "source": [
    "df[\"claim\"] = df[\"verifiable_claim\"].map(claims)"
   ]
  },
  {
   "cell_type": "code",
   "execution_count": 511,
   "metadata": {},
   "outputs": [],
   "source": [
    "df.drop([\"annotator_label\", \"_id\", \"verifiable_claim\"], axis=1, inplace=True)"
   ]
  },
  {
   "cell_type": "markdown",
   "metadata": {},
   "source": [
    "## Feature Engineering\n",
    "\n",
    "1. Number of hashtags\n",
    "2. Hour of day bins\n",
    "3. Number of words in text / extracted text\n",
    "4. Named entities in text (whether present or not)"
   ]
  },
  {
   "cell_type": "code",
   "execution_count": 512,
   "metadata": {},
   "outputs": [],
   "source": [
    "def count_hashtags(data):\n",
    "    return len(re.findall(\"#\", str(data)))"
   ]
  },
  {
   "cell_type": "code",
   "execution_count": 513,
   "metadata": {},
   "outputs": [],
   "source": [
    "df[\"n_hashtags\"] = df[\"caption\"].map(count_hashtags)"
   ]
  },
  {
   "cell_type": "code",
   "execution_count": 514,
   "metadata": {},
   "outputs": [],
   "source": [
    "df[\"datetime\"] = pd.to_datetime(df[\"timestamp\"])"
   ]
  },
  {
   "cell_type": "code",
   "execution_count": 515,
   "metadata": {},
   "outputs": [],
   "source": [
    "def hour(data):\n",
    "    time = data.time()\n",
    "    hour_string = str(time)[:2]\n",
    "    hour_int = int(hour_string) \n",
    "    return hour_int"
   ]
  },
  {
   "cell_type": "code",
   "execution_count": 516,
   "metadata": {},
   "outputs": [],
   "source": [
    "df[\"hour\"] = df[\"datetime\"].map(hour)"
   ]
  },
  {
   "cell_type": "code",
   "execution_count": 517,
   "metadata": {},
   "outputs": [
    {
     "name": "stdout",
     "output_type": "stream",
     "text": [
      "1372\n"
     ]
    }
   ],
   "source": [
    "images_df=df[df[\"media_type\"]==\"image\"]\n",
    "print(len(images_df))"
   ]
  },
  {
   "cell_type": "code",
   "execution_count": 518,
   "metadata": {},
   "outputs": [],
   "source": [
    "images_df[\"s3_url\"] = \"https://s3.ap-south-1.amazonaws.com/sharechat-scraper.tattle.co.in/\" + images_df[\"filename\"] + \".jpg\""
   ]
  },
  {
   "cell_type": "code",
   "execution_count": 519,
   "metadata": {},
   "outputs": [],
   "source": [
    "# %%time\n",
    "# for i in images_df[\"s3_url\"]:\n",
    "#     wget.download(i, out=\"images/\")"
   ]
  },
  {
   "cell_type": "code",
   "execution_count": 520,
   "metadata": {},
   "outputs": [],
   "source": [
    "# %%time\n",
    "# f=0\n",
    "# extractions = {}\n",
    "# texts = []\n",
    "# client = vision.ImageAnnotatorClient()\n",
    "# img_folder = os.getcwd() + \"/images\"\n",
    "# for i in os.listdir(img_folder):\n",
    "#     if i != '.DS_Store':\n",
    "#         path = os.getcwd() + \"/images/\" + i\n",
    "#         with io.open(path, 'rb') as image_file:\n",
    "#             content = image_file.read()\n",
    "#         image = vision.Image(content=content)\n",
    "#         try:\n",
    "#             resp = client.text_detection(image=image)\n",
    "#             text = resp.full_text_annotation.text\n",
    "#             extractions[i] = text\n",
    "#             texts.append(text)\n",
    "#         except Exception:\n",
    "#             f+=1\n",
    "#             extractions[i] = ''\n",
    "#             texts.append(\"\")"
   ]
  },
  {
   "cell_type": "code",
   "execution_count": 521,
   "metadata": {},
   "outputs": [],
   "source": [
    "# with open(\"extractions.json\",\"w\") as f:\n",
    "#     json.dump(extractions, f)"
   ]
  },
  {
   "cell_type": "code",
   "execution_count": 522,
   "metadata": {},
   "outputs": [],
   "source": [
    "# Load previously extracted image text\n",
    "with open(\"extractions.json\",\"r\") as f:\n",
    "    extractions = json.loads(f.read())"
   ]
  },
  {
   "cell_type": "code",
   "execution_count": 523,
   "metadata": {},
   "outputs": [],
   "source": [
    "def match_texts(filename):\n",
    "    text = extractions.get(filename+\".jpg\")\n",
    "    return text"
   ]
  },
  {
   "cell_type": "code",
   "execution_count": 524,
   "metadata": {},
   "outputs": [],
   "source": [
    "# Extract text from images\n",
    "df[\"extracted_text\"] = df[\"filename\"].map(match_texts)"
   ]
  },
  {
   "cell_type": "code",
   "execution_count": 525,
   "metadata": {},
   "outputs": [],
   "source": [
    "def remove_newlines(data):\n",
    "    if data != None:\n",
    "        return re.sub(\"\\n\", \" \", data)\n",
    "    else:\n",
    "        return None"
   ]
  },
  {
   "cell_type": "code",
   "execution_count": 526,
   "metadata": {},
   "outputs": [],
   "source": [
    "df[\"extracted_text\"] = df[\"extracted_text\"].map(remove_newlines)"
   ]
  },
  {
   "cell_type": "code",
   "execution_count": 527,
   "metadata": {},
   "outputs": [],
   "source": [
    "# Replace nans and Nones with blank strings\n",
    "df[\"extracted_text\"] = np.where(df[\"extracted_text\"]!=df[\"extracted_text\"], \"\", df[\"extracted_text\"])\n",
    "df[\"text\"] = np.where(df[\"text\"]!=df[\"text\"], \"\", df[\"text\"])"
   ]
  },
  {
   "cell_type": "code",
   "execution_count": 529,
   "metadata": {},
   "outputs": [],
   "source": [
    "df[\"combined_text\"] = df[\"extracted_text\"] + df[\"text\"]"
   ]
  },
  {
   "cell_type": "code",
   "execution_count": 532,
   "metadata": {},
   "outputs": [],
   "source": [
    "def count_words(data):\n",
    "    if data == data:\n",
    "        wordlist = data.split(\" \")\n",
    "        if len(data) > 0:\n",
    "            return(len(wordlist))\n",
    "        else:\n",
    "            return 0\n",
    "    else:\n",
    "        return 0"
   ]
  },
  {
   "cell_type": "code",
   "execution_count": 533,
   "metadata": {},
   "outputs": [],
   "source": [
    "df[\"n_words\"] = df[\"combined_text\"].map(count_words)"
   ]
  },
  {
   "cell_type": "code",
   "execution_count": 534,
   "metadata": {},
   "outputs": [],
   "source": [
    "# Fix bad label\n",
    "df[\"contains_image\"] = np.where(df[\"contains_image\"] == \"Does no contain human(s)\", \"Does not contain human(s)\", df[\"contains_image\"])"
   ]
  },
  {
   "cell_type": "code",
   "execution_count": 537,
   "metadata": {},
   "outputs": [],
   "source": [
    "def remove_emoji(text):\n",
    "    return emoji.get_emoji_regexp().sub(u'', text)"
   ]
  },
  {
   "cell_type": "code",
   "execution_count": 538,
   "metadata": {},
   "outputs": [],
   "source": [
    "df[\"combined_text\"] = df[\"combined_text\"].map(remove_emoji)"
   ]
  },
  {
   "cell_type": "code",
   "execution_count": 567,
   "metadata": {},
   "outputs": [],
   "source": [
    "translator = translate.Client()"
   ]
  },
  {
   "cell_type": "code",
   "execution_count": 575,
   "metadata": {},
   "outputs": [],
   "source": [
    "def translate_text(text):\n",
    "    text = translate_client.translate(text).get(\"translatedText\", \"\")\n",
    "    return text"
   ]
  },
  {
   "cell_type": "code",
   "execution_count": 577,
   "metadata": {},
   "outputs": [
    {
     "name": "stdout",
     "output_type": "stream",
     "text": [
      "324.179788008998\n"
     ]
    }
   ],
   "source": [
    "start = perf_counter()\n",
    "df[\"translation\"] = df[\"combined_text\"].map(translate_text)\n",
    "delta = perf_counter() - start\n",
    "print(delta)"
   ]
  },
  {
   "cell_type": "code",
   "execution_count": 629,
   "metadata": {},
   "outputs": [],
   "source": [
    "def get_entities(text):\n",
    "    entities = []\n",
    "    doc = nlp(text)\n",
    "    for ent in doc.ents:\n",
    "#         if ent.label_ in [\"PERSON\", \"NORP\", \"ORG\", \"GPE\"]:\n",
    "        entities.append(ent.text)\n",
    "    return entities"
   ]
  },
  {
   "cell_type": "code",
   "execution_count": 630,
   "metadata": {},
   "outputs": [],
   "source": [
    "df[\"named_entities\"] = df[\"translation\"].map(get_entities)"
   ]
  },
  {
   "cell_type": "code",
   "execution_count": 631,
   "metadata": {},
   "outputs": [],
   "source": [
    "df[\"entities_count\"] = df[\"named_entities\"].map(len)"
   ]
  },
  {
   "cell_type": "code",
   "execution_count": 633,
   "metadata": {},
   "outputs": [],
   "source": [
    "drop_cols = [\n",
    "        \"tag_name\", \"tag_translation\", \"timestamp\", \n",
    "        \"caption\", \"text\", \"filename\",\n",
    "        \"datetime\", \"extracted_text\", \"named_entities\"]"
   ]
  },
  {
   "cell_type": "markdown",
   "metadata": {},
   "source": [
    "## Preprocessing"
   ]
  },
  {
   "cell_type": "code",
   "execution_count": 684,
   "metadata": {},
   "outputs": [],
   "source": [
    "# Train test split\n",
    "X = df.drop(\"claim\", axis=1)\n",
    "y = df[\"claim\"]\n",
    "X_train, X_test, y_train, y_test = train_test_split(X, y, test_size=0.2, random_state=0)"
   ]
  },
  {
   "cell_type": "code",
   "execution_count": 685,
   "metadata": {},
   "outputs": [],
   "source": [
    "def prepare_data(df):\n",
    "    # Drop columns that won't be used \n",
    "    df.drop(drop_cols, axis=1, inplace=True)\n",
    "    return df"
   ]
  },
  {
   "cell_type": "code",
   "execution_count": 686,
   "metadata": {},
   "outputs": [],
   "source": [
    "X_train = prepare_data(X_train)"
   ]
  },
  {
   "cell_type": "code",
   "execution_count": 687,
   "metadata": {},
   "outputs": [
    {
     "data": {
      "text/plain": [
       "bucket_name                0\n",
       "external_shares            0\n",
       "likes                      0\n",
       "media_type                 0\n",
       "contains_video            29\n",
       "contains_image            28\n",
       "visible_source            29\n",
       "contains_relevant_meme    28\n",
       "n_hashtags                 0\n",
       "hour                       0\n",
       "combined_text              0\n",
       "n_words                    0\n",
       "translation                0\n",
       "entities_count             0\n",
       "dtype: int64"
      ]
     },
     "execution_count": 687,
     "metadata": {},
     "output_type": "execute_result"
    }
   ],
   "source": [
    "# Count missing values in each column\n",
    "X_train.isna().sum()"
   ]
  },
  {
   "cell_type": "code",
   "execution_count": 688,
   "metadata": {},
   "outputs": [],
   "source": [
    "# Impute nans in categorical columns\n",
    "imputer = SimpleImputer(strategy=\"most_frequent\")"
   ]
  },
  {
   "cell_type": "code",
   "execution_count": 689,
   "metadata": {},
   "outputs": [],
   "source": [
    "columns = X_train.columns\n",
    "X_train = pd.DataFrame(imputer.fit_transform(X_train))\n",
    "X_train.columns = columns"
   ]
  },
  {
   "cell_type": "code",
   "execution_count": 690,
   "metadata": {},
   "outputs": [
    {
     "data": {
      "text/plain": [
       "<matplotlib.axes._subplots.AxesSubplot at 0x7fe2c5acd340>"
      ]
     },
     "execution_count": 690,
     "metadata": {},
     "output_type": "execute_result"
    },
    {
     "data": {
      "image/png": "[encoded data removed]",
      "text/plain": [
       "<Figure size 432x288 with 1 Axes>"
      ]
     },
     "metadata": {
      "needs_background": "light"
     },
     "output_type": "display_data"
    }
   ],
   "source": [
    "# Inspect numeric variables for outliers\n",
    "df.boxplot(column=\"n_words\")"
   ]
  },
  {
   "cell_type": "code",
   "execution_count": 691,
   "metadata": {},
   "outputs": [
    {
     "data": {
      "text/plain": [
       "<matplotlib.axes._subplots.AxesSubplot at 0x7fe2c536a220>"
      ]
     },
     "execution_count": 691,
     "metadata": {},
     "output_type": "execute_result"
    },
    {
     "data": {
      "image/png": "[encoded data removed]",
      "text/plain": [
       "<Figure size 432x288 with 1 Axes>"
      ]
     },
     "metadata": {
      "needs_background": "light"
     },
     "output_type": "display_data"
    }
   ],
   "source": [
    "df.boxplot(column=\"n_hashtags\")"
   ]
  },
  {
   "cell_type": "code",
   "execution_count": 692,
   "metadata": {},
   "outputs": [
    {
     "data": {
      "text/plain": [
       "<matplotlib.axes._subplots.AxesSubplot at 0x7fe2c56953a0>"
      ]
     },
     "execution_count": 692,
     "metadata": {},
     "output_type": "execute_result"
    },
    {
     "data": {
      "image/png": "[encoded data removed]",
      "text/plain": [
       "<Figure size 432x288 with 1 Axes>"
      ]
     },
     "metadata": {
      "needs_background": "light"
     },
     "output_type": "display_data"
    }
   ],
   "source": [
    "df.boxplot(column=\"external_shares\")"
   ]
  },
  {
   "cell_type": "code",
   "execution_count": 693,
   "metadata": {},
   "outputs": [
    {
     "data": {
      "text/plain": [
       "<matplotlib.axes._subplots.AxesSubplot at 0x7fe2c56e4ca0>"
      ]
     },
     "execution_count": 693,
     "metadata": {},
     "output_type": "execute_result"
    },
    {
     "data": {
      "image/png": "[encoded data removed]",
      "text/plain": [
       "<Figure size 432x288 with 1 Axes>"
      ]
     },
     "metadata": {
      "needs_background": "light"
     },
     "output_type": "display_data"
    }
   ],
   "source": [
    "df.boxplot(column=\"likes\")"
   ]
  },
  {
   "cell_type": "code",
   "execution_count": 694,
   "metadata": {},
   "outputs": [
    {
     "data": {
      "text/plain": [
       "<matplotlib.axes._subplots.AxesSubplot at 0x7fe2c61264f0>"
      ]
     },
     "execution_count": 694,
     "metadata": {},
     "output_type": "execute_result"
    },
    {
     "data": {
      "image/png": "[encoded data removed]",
      "text/plain": [
       "<Figure size 432x288 with 1 Axes>"
      ]
     },
     "metadata": {
      "needs_background": "light"
     },
     "output_type": "display_data"
    }
   ],
   "source": [
    "df.boxplot(column=\"entities_count\")"
   ]
  },
  {
   "cell_type": "code",
   "execution_count": 695,
   "metadata": {},
   "outputs": [],
   "source": [
    "# Standardize numeric variables\n",
    "scaler = StandardScaler()\n",
    "num = [\"n_words\", \"n_hashtags\", \"likes\", \"external_shares\", \"entities_count\"]\n",
    "num_cols = pd.DataFrame(scaler.fit_transform(X_train[num]))\n",
    "num_cols.columns = num"
   ]
  },
  {
   "cell_type": "code",
   "execution_count": 696,
   "metadata": {},
   "outputs": [],
   "source": [
    "# Convert categorical columns\n",
    "cat = [\n",
    "    \"media_type\", \"contains_video\", \"contains_image\", \n",
    "    \"visible_source\", \"contains_relevant_meme\", \"bucket_name\", \"hour\"]\n",
    "X_train[cat] = X_train[cat].apply(pd.Categorical)"
   ]
  },
  {
   "cell_type": "code",
   "execution_count": 697,
   "metadata": {},
   "outputs": [],
   "source": [
    "# Dummify categorical columns\n",
    "cat_cols = pd.get_dummies(X_train[cat], drop_first = True)"
   ]
  },
  {
   "cell_type": "code",
   "execution_count": 698,
   "metadata": {},
   "outputs": [],
   "source": [
    "X_train = pd.concat([cat_cols, num_cols], axis=1)"
   ]
  },
  {
   "cell_type": "code",
   "execution_count": 699,
   "metadata": {},
   "outputs": [],
   "source": [
    "# Encode target variable\n",
    "label_encoder = LabelEncoder()\n",
    "y_train = label_encoder.fit_transform(y_train)"
   ]
  },
  {
   "cell_type": "code",
   "execution_count": 700,
   "metadata": {},
   "outputs": [],
   "source": [
    "# Apply preprocessing to test set\n",
    "X_test = prepare_data(X_test)\n",
    "\n",
    "columns = X_test.columns\n",
    "X_test = pd.DataFrame(imputer.transform(X_test))\n",
    "X_test.columns = columns\n",
    "\n",
    "num_cols = pd.DataFrame(scaler.transform(X_test[num]))\n",
    "num_cols.columns = num\n",
    "\n",
    "X_test[cat] = X_test[cat].apply(pd.Categorical)\n",
    "\n",
    "cat_cols = pd.get_dummies(X_test[cat], drop_first = True)\n",
    "X_test = pd.concat([cat_cols, num_cols], axis=1)\n",
    "\n",
    "y_test = label_encoder.transform(y_test)"
   ]
  },
  {
   "cell_type": "code",
   "execution_count": 701,
   "metadata": {},
   "outputs": [],
   "source": [
    "# Defining a function to fix column difference between train and test sets\n",
    "\n",
    "# This will go inside the main function\n",
    "def add_missing_dummy_columns(test_set, train_columns):\n",
    "    # d = test set, columns = train set columns \n",
    "    missing_cols = set(train_columns) - set(test_set.columns)\n",
    "    for c in missing_cols:\n",
    "        test_set[c] = 0 # add missing columns to test set with empty column values\n",
    "        \n",
    "# This is the main function     \n",
    "def fix_columns(test_set, train_columns):  \n",
    "\n",
    "    add_missing_dummy_columns(test_set, train_columns)\n",
    "\n",
    "    # make sure we have all the columns we need\n",
    "    assert(set(train_columns) - set(test_set.columns) == set())\n",
    "\n",
    "    extra_cols = set(test_set.columns) - set(train_columns) # these are the extra cols in the test set\n",
    "    if extra_cols:\n",
    "        print (\"extra columns:\", extra_cols)\n",
    "\n",
    "    test_set = test_set[train_columns] # keep only columns that are in the train set \n",
    "    return test_set\n"
   ]
  },
  {
   "cell_type": "code",
   "execution_count": 702,
   "metadata": {},
   "outputs": [
    {
     "name": "stdout",
     "output_type": "stream",
     "text": [
      "extra columns: {'bucket_name_राजनीति '}\n"
     ]
    }
   ],
   "source": [
    "X_test = fix_columns(X_test, X_train.columns)"
   ]
  },
  {
   "cell_type": "code",
   "execution_count": 703,
   "metadata": {},
   "outputs": [],
   "source": [
    "# Sanity check\n",
    "assert(set(X_train.columns) - set(X_test.columns) == set())"
   ]
  },
  {
   "cell_type": "code",
   "execution_count": 704,
   "metadata": {},
   "outputs": [],
   "source": [
    "vifs = pd.Series(np.linalg.inv(X_train.corr().values).diagonal(), index=X_train.corr().index)"
   ]
  },
  {
   "cell_type": "code",
   "execution_count": 705,
   "metadata": {},
   "outputs": [
    {
     "data": {
      "text/plain": [
       "media_type_text                                        1.248123\n",
       "media_type_video                                       2.513759\n",
       "contains_video_Other                                   1.505321\n",
       "contains_video_Yes, contains violent incident          1.123644\n",
       "contains_video_Yes, person is performing for camera    1.915311\n",
       "contains_image_Does not contain human(s)               1.210347\n",
       "contains_image_No, does not contain images             1.354312\n",
       "visible_source_Digital Content Providers               1.051693\n",
       "visible_source_Digital Only News Outlets               1.071521\n",
       "visible_source_Government/Public Authority             1.051752\n",
       "visible_source_Other                                   1.064818\n",
       "visible_source_Print/TV Media                          1.192653\n",
       "contains_relevant_meme_Yes                             1.281150\n",
       "bucket_name_ख़बरें                                     1.080695\n",
       "bucket_name_ख़बरें और राजनीति                          2.401523\n",
       "bucket_name_देश प्रेम                                  2.286207\n",
       "bucket_name_फिल्मी दुनिया                              1.022258\n",
       "bucket_name_लॉकडाउन                                    1.045815\n",
       "bucket_name_शेयरचैट trends                             1.086075\n",
       "bucket_name_स्वास्थ्य                                  2.573866\n",
       "hour_1                                                 3.870042\n",
       "hour_2                                                 4.224183\n",
       "hour_3                                                 4.724641\n",
       "hour_4                                                 5.894744\n",
       "hour_5                                                 5.147541\n",
       "hour_6                                                 5.838760\n",
       "hour_7                                                 4.731758\n",
       "hour_8                                                 5.494534\n",
       "hour_9                                                 5.482693\n",
       "hour_10                                                5.445450\n",
       "hour_11                                                4.837024\n",
       "hour_12                                                5.283909\n",
       "hour_13                                                5.000130\n",
       "hour_14                                                6.380132\n",
       "hour_15                                                6.421772\n",
       "hour_16                                                9.613391\n",
       "hour_17                                                7.633192\n",
       "hour_18                                                6.082031\n",
       "hour_19                                                4.112346\n",
       "hour_20                                                2.477494\n",
       "hour_21                                                2.007952\n",
       "hour_22                                                2.053016\n",
       "hour_23                                                2.030488\n",
       "n_words                                                2.886035\n",
       "n_hashtags                                             1.139261\n",
       "likes                                                  3.191493\n",
       "external_shares                                        3.186016\n",
       "entities_count                                         2.763933\n",
       "dtype: float64"
      ]
     },
     "execution_count": 705,
     "metadata": {},
     "output_type": "execute_result"
    }
   ],
   "source": [
    "vifs"
   ]
  },
  {
   "cell_type": "code",
   "execution_count": 706,
   "metadata": {},
   "outputs": [],
   "source": [
    "# Drop columns with high VIFs\n",
    "vif_cols = [\"hour_14\", \"hour_15\", \"hour_16\", \"hour_17\", \"hour_18\"]\n",
    "X_train.drop(vif_cols, axis=1, inplace=True)\n",
    "X_test.drop(vif_cols, axis=1, inplace=True)"
   ]
  },
  {
   "cell_type": "markdown",
   "metadata": {},
   "source": [
    "## Model building"
   ]
  },
  {
   "cell_type": "code",
   "execution_count": 707,
   "metadata": {},
   "outputs": [
    {
     "name": "stdout",
     "output_type": "stream",
     "text": [
      "Optimization terminated successfully.\n",
      "         Current function value: 0.517225\n",
      "         Iterations 25\n"
     ]
    }
   ],
   "source": [
    "logit_model = sm.Logit(y_train, X_train, random_state=0)\n",
    "result = logit_model.fit(maxiter=100)"
   ]
  },
  {
   "cell_type": "code",
   "execution_count": 708,
   "metadata": {},
   "outputs": [
    {
     "name": "stdout",
     "output_type": "stream",
     "text": [
      "                                                     Results: Logit\n",
      "========================================================================================================================\n",
      "Model:                                 Logit                              Pseudo R-squared:                   0.224     \n",
      "Dependent Variable:                    y                                  AIC:                                1906.6331 \n",
      "Date:                                  2020-11-24 10:10                   BIC:                                2141.9751 \n",
      "No. Observations:                      1760                               Log-Likelihood:                     -910.32   \n",
      "Df Model:                              42                                 LL-Null:                            -1173.6   \n",
      "Df Residuals:                          1717                               LLR p-value:                        5.0759e-85\n",
      "Converged:                             1.0000                             Scale:                              1.0000    \n",
      "No. Iterations:                        25.0000                                                                          \n",
      "------------------------------------------------------------------------------------------------------------------------\n",
      "                                                     Coef.      Std.Err.      z    P>|z|       [0.025         0.975]    \n",
      "------------------------------------------------------------------------------------------------------------------------\n",
      "media_type_text                                      -0.4324        0.2370 -1.8245 0.0681         -0.8969         0.0321\n",
      "media_type_video                                     -0.7547        0.2430 -3.1050 0.0019         -1.2310        -0.2783\n",
      "contains_video_Other                                  1.2485        0.3220  3.8771 0.0001          0.6174         1.8797\n",
      "contains_video_Yes, contains violent incident         1.9521        0.6656  2.9329 0.0034          0.6475         3.2566\n",
      "contains_video_Yes, person is performing for camera   1.1363        0.2748  4.1356 0.0000          0.5978         1.6748\n",
      "contains_image_Does not contain human(s)              0.4272        0.2092  2.0419 0.0412          0.0171         0.8373\n",
      "contains_image_No, does not contain images           -0.5766        0.1263 -4.5660 0.0000         -0.8241        -0.3291\n",
      "visible_source_Digital Content Providers              0.5470        0.1935  2.8276 0.0047          0.1678         0.9262\n",
      "visible_source_Digital Only News Outlets              2.9770        0.6664  4.4677 0.0000          1.6710         4.2831\n",
      "visible_source_Government/Public Authority            1.8688        0.6615  2.8251 0.0047          0.5723         3.1654\n",
      "visible_source_Other                                 -0.7190        0.3043 -2.3626 0.0181         -1.3154        -0.1225\n",
      "visible_source_Print/TV Media                         2.4182        0.3994  6.0551 0.0000          1.6355         3.2010\n",
      "contains_relevant_meme_Yes                           -0.5801        0.1455 -3.9858 0.0001         -0.8653        -0.2948\n",
      "bucket_name_ख़बरें                                    1.6751        0.7188  2.3303 0.0198          0.2662         3.0839\n",
      "bucket_name_ख़बरें और राजनीति                         0.3944        0.1450  2.7198 0.0065          0.1102         0.6787\n",
      "bucket_name_देश प्रेम                                -0.8776        0.1765 -4.9726 0.0000         -1.2235        -0.5317\n",
      "bucket_name_फिल्मी दुनिया                             1.2372        1.4412  0.8585 0.3906         -1.5875         4.0620\n",
      "bucket_name_लॉकडाउन                                 -37.2970 64028406.0425 -0.0000 1.0000 -125493407.1278 125493332.5339\n",
      "bucket_name_शेयरचैट trends                            1.5526        1.0852  1.4308 0.1525         -0.5743         3.6795\n",
      "bucket_name_स्वास्थ्य                                 0.5161        0.1408  3.6645 0.0002          0.2400         0.7921\n",
      "hour_1                                               -0.5533        0.3504 -1.5791 0.1143         -1.2400         0.1335\n",
      "hour_2                                               -0.6827        0.3380 -2.0199 0.0434         -1.3451        -0.0203\n",
      "hour_3                                               -0.7242        0.3112 -2.3272 0.0200         -1.3341        -0.1143\n",
      "hour_4                                                0.0625        0.2579  0.2422 0.8086         -0.4430         0.5680\n",
      "hour_5                                               -0.1570        0.2973 -0.5280 0.5975         -0.7397         0.4258\n",
      "hour_6                                               -0.4033        0.2737 -1.4735 0.1406         -0.9397         0.1332\n",
      "hour_7                                               -0.0154        0.2897 -0.0532 0.9576         -0.5832         0.5524\n",
      "hour_8                                               -0.5712        0.2749 -2.0776 0.0378         -1.1101        -0.0323\n",
      "hour_9                                                0.0478        0.2670  0.1789 0.8581         -0.4755         0.5710\n",
      "hour_10                                              -0.5566        0.2800 -1.9875 0.0469         -1.1054        -0.0077\n",
      "hour_11                                              -0.5075        0.2944 -1.7237 0.0848         -1.0846         0.0696\n",
      "hour_12                                               0.0272        0.2749  0.0989 0.9212         -0.5117         0.5660\n",
      "hour_13                                              -0.0976        0.2903 -0.3362 0.7368         -0.6665         0.4714\n",
      "hour_19                                              -0.7179        0.3676 -1.9529 0.0508         -1.4385         0.0026\n",
      "hour_20                                              -1.1450        0.6281 -1.8229 0.0683         -2.3760         0.0861\n",
      "hour_21                                              -0.1849        0.5459 -0.3388 0.7348         -1.2549         0.8850\n",
      "hour_22                                              -0.5087        0.5946 -0.8555 0.3923         -1.6741         0.6567\n",
      "hour_23                                              -1.5733        0.8643 -1.8203 0.0687         -3.2672         0.1207\n",
      "n_words                                              -0.2840        0.1739 -1.6336 0.1023         -0.6248         0.0567\n",
      "n_hashtags                                           -0.0985        0.0643 -1.5331 0.1253         -0.2245         0.0274\n",
      "likes                                                -0.4398        0.1553 -2.8320 0.0046         -0.7441        -0.1354\n",
      "external_shares                                       0.2838        0.1206  2.3543 0.0186          0.0475         0.5201\n",
      "entities_count                                        1.3363        0.2234  5.9829 0.0000          0.8985         1.7741\n",
      "========================================================================================================================\n",
      "\n"
     ]
    }
   ],
   "source": [
    "print(result.summary2())"
   ]
  },
  {
   "cell_type": "code",
   "execution_count": 709,
   "metadata": {},
   "outputs": [],
   "source": [
    "# Keep features with significant p-values\n",
    "keep = [\n",
    "    \"media_type_video\", \"contains_video_Other\", \"contains_video_Yes, person is performing for camera\", \"contains_video_Yes, contains violent incident\",\n",
    "    \"contains_image_Does not contain human(s)\", \"contains_image_No, does not contain images\", \"visible_source_Digital Only News Outlets\",\n",
    "    \"visible_source_Digital Content Providers\", \"visible_source_Government/Public Authority\",\n",
    "    \"visible_source_Other \", \"visible_source_Print/TV Media\", \"contains_relevant_meme_Yes\", \"bucket_name_ख़बरें और राजनीति\", \"bucket_name_ख़बरें\",\n",
    "    \"bucket_name_देश प्रेम \", \"bucket_name_स्वास्थ्य\", \"hour_2\", \"hour_3\", \"hour_8\", \"hour_10\", \"hour_19\", \"hour_20\", \"n_words\", \"likes\", \"external_shares\", \"entities_count\"\n",
    "]"
   ]
  },
  {
   "cell_type": "code",
   "execution_count": 710,
   "metadata": {},
   "outputs": [],
   "source": [
    "X_train = X_train[keep]\n",
    "X_test = X_test[keep]"
   ]
  },
  {
   "cell_type": "code",
   "execution_count": 711,
   "metadata": {},
   "outputs": [
    {
     "name": "stdout",
     "output_type": "stream",
     "text": [
      "0.7494318181818181\n",
      "0.7113636363636363\n"
     ]
    }
   ],
   "source": [
    "clf = LogisticRegression(random_state=0).fit(X_train, y_train)\n",
    "pred_train = clf.predict(X_train)\n",
    "pred_test = clf.predict(X_test)\n",
    "print(clf.score(X_train, y_train))\n",
    "print(clf.score(X_test, y_test))"
   ]
  },
  {
   "cell_type": "code",
   "execution_count": 712,
   "metadata": {},
   "outputs": [
    {
     "name": "stdout",
     "output_type": "stream",
     "text": [
      "961 120 321 358\n"
     ]
    }
   ],
   "source": [
    "# Count true / false positives / negatives\n",
    "tn, fp, fn, tp = confusion_matrix(y_train, pred_train).ravel()\n",
    "print(tn, fp, fn, tp)"
   ]
  },
  {
   "cell_type": "code",
   "execution_count": 713,
   "metadata": {},
   "outputs": [
    {
     "name": "stdout",
     "output_type": "stream",
     "text": [
      "220 39 88 93\n"
     ]
    }
   ],
   "source": [
    "tn, fp, fn, tp = confusion_matrix(y_test, pred_test).ravel()\n",
    "print(tn, fp, fn, tp)"
   ]
  },
  {
   "cell_type": "code",
   "execution_count": 714,
   "metadata": {},
   "outputs": [
    {
     "name": "stdout",
     "output_type": "stream",
     "text": [
      "              precision    recall  f1-score   support\n",
      "\n",
      "           0       0.75      0.89      0.81      1081\n",
      "           1       0.75      0.53      0.62       679\n",
      "\n",
      "    accuracy                           0.75      1760\n",
      "   macro avg       0.75      0.71      0.72      1760\n",
      "weighted avg       0.75      0.75      0.74      1760\n",
      "\n"
     ]
    }
   ],
   "source": [
    "# Calculate accuracy metrics\n",
    "print(classification_report(y_train, pred_train))"
   ]
  },
  {
   "cell_type": "code",
   "execution_count": 715,
   "metadata": {},
   "outputs": [
    {
     "name": "stdout",
     "output_type": "stream",
     "text": [
      "              precision    recall  f1-score   support\n",
      "\n",
      "           0       0.71      0.85      0.78       259\n",
      "           1       0.70      0.51      0.59       181\n",
      "\n",
      "    accuracy                           0.71       440\n",
      "   macro avg       0.71      0.68      0.69       440\n",
      "weighted avg       0.71      0.71      0.70       440\n",
      "\n"
     ]
    }
   ],
   "source": [
    "print(classification_report(y_test, pred_test))"
   ]
  },
  {
   "cell_type": "code",
   "execution_count": 716,
   "metadata": {},
   "outputs": [
    {
     "data": {
      "image/png": "[encoded data removed]",
      "text/plain": [
       "<Figure size 432x288 with 1 Axes>"
      ]
     },
     "metadata": {
      "needs_background": "light"
     },
     "output_type": "display_data"
    }
   ],
   "source": [
    "logit_roc_auc = roc_auc_score(y_test, clf.predict(X_test))\n",
    "fpr, tpr, thresholds = roc_curve(y_test, clf.predict_proba(X_test)[:,1])\n",
    "plt.figure()\n",
    "plt.plot(fpr, tpr, label='Logistic Regression (area = %0.2f)' % logit_roc_auc)\n",
    "plt.plot([0, 1], [0, 1],'r--')\n",
    "plt.xlim([0.0, 1.0])\n",
    "plt.ylim([0.0, 1.05])\n",
    "plt.xlabel('False Positive Rate')\n",
    "plt.ylabel('True Positive Rate')\n",
    "plt.title('Receiver operating characteristic')\n",
    "plt.legend(loc=\"lower right\")\n",
    "plt.savefig('Log_ROC')\n",
    "plt.show()"
   ]
  },
  {
   "cell_type": "markdown",
   "metadata": {},
   "source": [
    "## Learning Curves & Model Comparisons"
   ]
  },
  {
   "cell_type": "code",
   "execution_count": 748,
   "metadata": {},
   "outputs": [],
   "source": [
    "# Defining a function to plot a learning curve\n",
    "def plot_learning_curve(estimator, title, X, y, ylim=None, cv=None,\n",
    "                        n_jobs=1, train_sizes=np.linspace(.1, 1.0, 5)):\n",
    "    \n",
    "    plt.figure(figsize = (10, 5))\n",
    "    plt.title(title, fontsize = 14)\n",
    "    if ylim is not None:\n",
    "        plt.ylim(*ylim)\n",
    "    plt.xlabel(\"Training samples\", fontsize = 14)\n",
    "    plt.ylabel(\"Accuracy\", rotation = 90, fontsize = 14)\n",
    "    plt.xticks(fontsize = 12)\n",
    "    plt.yticks(np.arange(.1, 1.0, 0.05), fontsize = 12)\n",
    "    train_sizes, train_scores, test_scores = learning_curve(\n",
    "        estimator, X, y, cv=cv, n_jobs=n_jobs, train_sizes=train_sizes, scoring = 'accuracy')\n",
    "    train_scores_mean = np.mean(train_scores, axis=1)\n",
    "    train_scores_std = np.std(train_scores, axis=1)\n",
    "    test_scores_mean = np.mean(test_scores, axis=1)\n",
    "    test_scores_std = np.std(test_scores, axis=1)\n",
    "    plt.grid()\n",
    "\n",
    "    plt.fill_between(train_sizes, train_scores_mean - train_scores_std,\n",
    "                     train_scores_mean + train_scores_std, alpha=0.1,\n",
    "                     color=\"r\")\n",
    "    plt.fill_between(train_sizes, test_scores_mean - test_scores_std,\n",
    "                     test_scores_mean + test_scores_std, alpha=0.1, color=\"b\")\n",
    "    plt.plot(train_sizes, train_scores_mean, 'o-', color=\"r\",\n",
    "             label=\"Training score\")\n",
    "    plt.plot(train_sizes, test_scores_mean, 'o-', color=\"b\",\n",
    "             label=\"Cross-validation score\")\n",
    "\n",
    "    plt.legend(loc=\"best\")\n",
    "    plt.grid()\n",
    "    return plt"
   ]
  },
  {
   "cell_type": "code",
   "execution_count": 749,
   "metadata": {},
   "outputs": [
    {
     "data": {
      "image/png": "[encoded data removed]",
      "text/plain": [
       "<Figure size 720x360 with 1 Axes>"
      ]
     },
     "metadata": {
      "needs_background": "light"
     },
     "output_type": "display_data"
    }
   ],
   "source": [
    "title = \"Learning Curves (Logistic Regression)\"\n",
    "cv = ShuffleSplit(n_splits=5, test_size=0.2, random_state=0)\n",
    "estimator = LogisticRegression(random_state=0)\n",
    "plot_learning_curve(estimator, title, X_train, y_train, ylim=(0, 1.01), cv=cv, n_jobs=1)\n",
    "plt.show()"
   ]
  },
  {
   "cell_type": "code",
   "execution_count": 750,
   "metadata": {},
   "outputs": [
    {
     "data": {
      "image/png": "[encoded data removed]",
      "text/plain": [
       "<Figure size 720x360 with 1 Axes>"
      ]
     },
     "metadata": {
      "needs_background": "light"
     },
     "output_type": "display_data"
    }
   ],
   "source": [
    "title = \"Learning Curves (XGBoost)\"\n",
    "cv = ShuffleSplit(n_splits=5, test_size=0.2, random_state=0)\n",
    "estimator = XGBClassifier(random_state=0, n_estimators=10, max_depth=3)\n",
    "plot_learning_curve(estimator, title, X_train, y_train, ylim=(0, 1.01), cv=cv, n_jobs=1)\n",
    "plt.show()"
   ]
  },
  {
   "cell_type": "code",
   "execution_count": 751,
   "metadata": {},
   "outputs": [
    {
     "data": {
      "image/png": "[encoded data removed]",
      "text/plain": [
       "<Figure size 720x360 with 1 Axes>"
      ]
     },
     "metadata": {
      "needs_background": "light"
     },
     "output_type": "display_data"
    }
   ],
   "source": [
    "title = \"Learning Curves (SVM)\"\n",
    "cv = ShuffleSplit(n_splits=5, test_size=0.2, random_state=0)\n",
    "estimator = SVC(random_state=0, C=1)\n",
    "plot_learning_curve(estimator, title, X_train, y_train, ylim=(0, 1.01), cv=cv, n_jobs=1)\n",
    "plt.show()"
   ]
  },
  {
   "cell_type": "markdown",
   "metadata": {},
   "source": [
    "The models appear to be underfitting, which may be due to not having sufficient data to train."
   ]
  }
 ],
 "metadata": {
  "finalized": {
   "timestamp": 1595852529951,
   "trusted": true
  },
  "kernelspec": {
   "display_name": "Python 3",
   "language": "python",
   "name": "python3"
  },
  "language_info": {
   "codemirror_mode": {
    "name": "ipython",
    "version": 3
   },
   "file_extension": ".py",
   "mimetype": "text/x-python",
   "name": "python",
   "nbconvert_exporter": "python",
   "pygments_lexer": "ipython3",
   "version": "3.8.3"
  }
 },
 "nbformat": 4,
 "nbformat_minor": 4
}

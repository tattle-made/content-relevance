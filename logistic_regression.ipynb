{
 "cells": [
  {
   "cell_type": "markdown",
   "metadata": {},
   "source": [
    "# Regression analysis - Sharechat annotated claims dataset\n",
    "\n",
    "Research - https://arxiv.org/abs/2010.13387\n",
    "\n",
    "### Steps\n",
    "\n",
    "1. Loading and combining annotated data files\n",
    "2. Engineering new features using Optical Character Recognition, Named Entity Recognition etc\n",
    "3. Train test split \n",
    "4. Missing value imputation\n",
    "5. Standardizing numeric variables\n",
    "6. Dummifying categorical variables\n",
    "7. Building and evaluating a logistic regression model\n",
    "8. Plotting learning curves and comparing with other models"
   ]
  },
  {
   "cell_type": "code",
   "execution_count": 801,
   "metadata": {},
   "outputs": [],
   "source": [
    "import sys\n",
    "import matplotlib.pyplot as plt\n",
    "import sklearn\n",
    "from sklearn.metrics import confusion_matrix\n",
    "import os\n",
    "import numpy as np\n",
    "import re\n",
    "import string\n",
    "from pprint import pprint\n",
    "import json\n",
    "from sklearn.utils import shuffle\n",
    "from sklearn.model_selection import train_test_split\n",
    "from sklearn.preprocessing import StandardScaler, LabelEncoder, MinMaxScaler\n",
    "from sklearn.impute import SimpleImputer\n",
    "import random\n",
    "import pandas as pd\n",
    "from dotenv import load_dotenv\n",
    "load_dotenv()\n",
    "import requests\n",
    "import logging\n",
    "from datetime import datetime, timedelta\n",
    "import time\n",
    "import spacy\n",
    "nlp = spacy.load(\"en_core_web_sm\")\n",
    "from googletrans import Translator\n",
    "import time\n",
    "from time import perf_counter\n",
    "from random import uniform\n",
    "import emoji\n",
    "from sklearn.linear_model import LogisticRegression\n",
    "import statsmodels.api as sm\n",
    "from sklearn.metrics import classification_report\n",
    "from sklearn.metrics import roc_auc_score\n",
    "from sklearn.metrics import roc_curve\n",
    "pd.options.mode.chained_assignment = None\n",
    "from sklearn.model_selection import learning_curve\n",
    "from sklearn.model_selection import ShuffleSplit\n",
    "from sklearn.svm import SVC\n",
    "from sklearn.ensemble import RandomForestClassifier\n",
    "from xgboost import XGBClassifier\n",
    "from xgboost import to_graphviz\n",
    "from sklearn.tree import export_graphviz\n",
    "import scipy\n",
    "from google.cloud import translate_v2 as translate\n",
    "import wget\n",
    "from google.cloud import vision\n",
    "from google.protobuf.json_format import MessageToJson\n",
    "import requests\n",
    "from PIL import Image\n",
    "import io\n",
    "from io import BytesIO"
   ]
  },
  {
   "cell_type": "markdown",
   "metadata": {},
   "source": [
    "## Load data"
   ]
  },
  {
   "cell_type": "code",
   "execution_count": 802,
   "metadata": {},
   "outputs": [],
   "source": [
    "ind = pd.read_csv(os.environ.get(\"ANNOTATION_IND\"))\n",
    "group1 = pd.read_csv(os.environ.get(\"ANNOTATION_GRP1\"))\n",
    "group2 = pd.read_csv(os.environ.get(\"ANNOTATION_GRP2\"))"
   ]
  },
  {
   "cell_type": "code",
   "execution_count": 803,
   "metadata": {},
   "outputs": [],
   "source": [
    "df = ind.append(group1).append(group2)"
   ]
  },
  {
   "cell_type": "code",
   "execution_count": 804,
   "metadata": {},
   "outputs": [],
   "source": [
    "df.reset_index(drop=True, inplace=True)"
   ]
  },
  {
   "cell_type": "code",
   "execution_count": 805,
   "metadata": {},
   "outputs": [],
   "source": [
    "df.to_csv(\"sharechat_annotated_zenodo.csv\")"
   ]
  },
  {
   "cell_type": "code",
   "execution_count": 806,
   "metadata": {},
   "outputs": [],
   "source": [
    "def claims(data):\n",
    "    if \"Yes\" in str(data):\n",
    "        return 1\n",
    "    else:\n",
    "        return 0"
   ]
  },
  {
   "cell_type": "code",
   "execution_count": 807,
   "metadata": {},
   "outputs": [],
   "source": [
    "df[\"claim\"] = df[\"verifiable_claim\"].map(claims)"
   ]
  },
  {
   "cell_type": "code",
   "execution_count": 808,
   "metadata": {},
   "outputs": [],
   "source": [
    "# Drop columns that won't be required\n",
    "df.drop([\"annotator_label\", \"_id\", \"verifiable_claim\"], axis=1, inplace=True)"
   ]
  },
  {
   "cell_type": "code",
   "execution_count": 810,
   "metadata": {},
   "outputs": [],
   "source": [
    "# Drop columns with low inter-annotator agreement\n",
    "df.drop([\"visible_source\"], axis=1, inplace=True)"
   ]
  },
  {
   "cell_type": "markdown",
   "metadata": {},
   "source": [
    "## Feature Engineering\n",
    "\n",
    "1. Number of hashtags\n",
    "2. Hour of day bins\n",
    "3. Number of words in text / extracted text\n",
    "4. Named entities in text (whether present or not)"
   ]
  },
  {
   "cell_type": "code",
   "execution_count": 811,
   "metadata": {},
   "outputs": [],
   "source": [
    "def count_hashtags(data):\n",
    "    return len(re.findall(\"#\", str(data)))"
   ]
  },
  {
   "cell_type": "code",
   "execution_count": 812,
   "metadata": {},
   "outputs": [],
   "source": [
    "df[\"n_hashtags\"] = df[\"caption\"].map(count_hashtags)"
   ]
  },
  {
   "cell_type": "code",
   "execution_count": 813,
   "metadata": {},
   "outputs": [],
   "source": [
    "df[\"datetime\"] = pd.to_datetime(df[\"timestamp\"])"
   ]
  },
  {
   "cell_type": "code",
   "execution_count": 814,
   "metadata": {},
   "outputs": [],
   "source": [
    "def hour(data):\n",
    "    time = data.time()\n",
    "    hour_string = str(time)[:2]\n",
    "    hour_int = int(hour_string) \n",
    "    return hour_int"
   ]
  },
  {
   "cell_type": "code",
   "execution_count": 815,
   "metadata": {},
   "outputs": [],
   "source": [
    "df[\"hour\"] = df[\"datetime\"].map(hour)"
   ]
  },
  {
   "cell_type": "code",
   "execution_count": 816,
   "metadata": {},
   "outputs": [
    {
     "name": "stdout",
     "output_type": "stream",
     "text": [
      "1372\n"
     ]
    }
   ],
   "source": [
    "images_df=df[df[\"media_type\"]==\"image\"]\n",
    "print(len(images_df))"
   ]
  },
  {
   "cell_type": "code",
   "execution_count": 817,
   "metadata": {},
   "outputs": [],
   "source": [
    "images_df[\"s3_url\"] = \"https://s3.ap-south-1.amazonaws.com/sharechat-scraper.tattle.co.in/\" + images_df[\"filename\"] + \".jpg\""
   ]
  },
  {
   "cell_type": "code",
   "execution_count": 818,
   "metadata": {},
   "outputs": [],
   "source": [
    "# %%time\n",
    "# for i in images_df[\"s3_url\"]:\n",
    "#     wget.download(i, out=\"images/\")"
   ]
  },
  {
   "cell_type": "code",
   "execution_count": 819,
   "metadata": {},
   "outputs": [],
   "source": [
    "# %%time\n",
    "# f=0\n",
    "# extractions = {}\n",
    "# texts = []\n",
    "# client = vision.ImageAnnotatorClient()\n",
    "# img_folder = os.getcwd() + \"/images\"\n",
    "# for i in os.listdir(img_folder):\n",
    "#     if i != '.DS_Store':\n",
    "#         path = os.getcwd() + \"/images/\" + i\n",
    "#         with io.open(path, 'rb') as image_file:\n",
    "#             content = image_file.read()\n",
    "#         image = vision.Image(content=content)\n",
    "#         try:\n",
    "#             resp = client.text_detection(image=image)\n",
    "#             text = resp.full_text_annotation.text\n",
    "#             extractions[i] = text\n",
    "#             texts.append(text)\n",
    "#         except Exception:\n",
    "#             f+=1\n",
    "#             extractions[i] = ''\n",
    "#             texts.append(\"\")"
   ]
  },
  {
   "cell_type": "code",
   "execution_count": 820,
   "metadata": {},
   "outputs": [],
   "source": [
    "# with open(\"extractions.json\",\"w\") as f:\n",
    "#     json.dump(extractions, f)"
   ]
  },
  {
   "cell_type": "code",
   "execution_count": 821,
   "metadata": {},
   "outputs": [],
   "source": [
    "# Load previously extracted image text\n",
    "with open(\"extractions.json\",\"r\") as f:\n",
    "    extractions = json.loads(f.read())"
   ]
  },
  {
   "cell_type": "code",
   "execution_count": 822,
   "metadata": {},
   "outputs": [],
   "source": [
    "def match_texts(filename):\n",
    "    text = extractions.get(filename+\".jpg\")\n",
    "    return text"
   ]
  },
  {
   "cell_type": "code",
   "execution_count": 823,
   "metadata": {},
   "outputs": [],
   "source": [
    "# Extract text from images\n",
    "df[\"extracted_text\"] = df[\"filename\"].map(match_texts)"
   ]
  },
  {
   "cell_type": "code",
   "execution_count": 824,
   "metadata": {},
   "outputs": [],
   "source": [
    "def remove_newlines(data):\n",
    "    if data != None:\n",
    "        return re.sub(\"\\n\", \" \", data)\n",
    "    else:\n",
    "        return None"
   ]
  },
  {
   "cell_type": "code",
   "execution_count": 825,
   "metadata": {},
   "outputs": [],
   "source": [
    "df[\"extracted_text\"] = df[\"extracted_text\"].map(remove_newlines)"
   ]
  },
  {
   "cell_type": "code",
   "execution_count": 826,
   "metadata": {},
   "outputs": [],
   "source": [
    "# Replace nans and Nones with blank strings\n",
    "df[\"extracted_text\"] = np.where(df[\"extracted_text\"]!=df[\"extracted_text\"], \"\", df[\"extracted_text\"])\n",
    "df[\"text\"] = np.where(df[\"text\"]!=df[\"text\"], \"\", df[\"text\"])"
   ]
  },
  {
   "cell_type": "code",
   "execution_count": 827,
   "metadata": {},
   "outputs": [],
   "source": [
    "df[\"combined_text\"] = df[\"extracted_text\"] + df[\"text\"]"
   ]
  },
  {
   "cell_type": "code",
   "execution_count": 828,
   "metadata": {},
   "outputs": [],
   "source": [
    "def count_words(data):\n",
    "    if data == data:\n",
    "        wordlist = data.split(\" \")\n",
    "        if len(data) > 0:\n",
    "            return(len(wordlist))\n",
    "        else:\n",
    "            return 0\n",
    "    else:\n",
    "        return 0"
   ]
  },
  {
   "cell_type": "code",
   "execution_count": 829,
   "metadata": {},
   "outputs": [],
   "source": [
    "df[\"n_words\"] = df[\"combined_text\"].map(count_words)"
   ]
  },
  {
   "cell_type": "code",
   "execution_count": 830,
   "metadata": {},
   "outputs": [],
   "source": [
    "# Fix bad label\n",
    "df[\"contains_image\"] = np.where(df[\"contains_image\"] == \"Does no contain human(s)\", \"Does not contain human(s)\", df[\"contains_image\"])"
   ]
  },
  {
   "cell_type": "code",
   "execution_count": 831,
   "metadata": {},
   "outputs": [],
   "source": [
    "def remove_emoji(text):\n",
    "    return emoji.get_emoji_regexp().sub(u'', text)"
   ]
  },
  {
   "cell_type": "code",
   "execution_count": 832,
   "metadata": {},
   "outputs": [],
   "source": [
    "df[\"combined_text\"] = df[\"combined_text\"].map(remove_emoji)"
   ]
  },
  {
   "cell_type": "code",
   "execution_count": 833,
   "metadata": {},
   "outputs": [],
   "source": [
    "translator = translate.Client()"
   ]
  },
  {
   "cell_type": "code",
   "execution_count": 834,
   "metadata": {},
   "outputs": [],
   "source": [
    "def translate_text(text):\n",
    "    text = translate_client.translate(text).get(\"translatedText\", \"\")\n",
    "    return text"
   ]
  },
  {
   "cell_type": "code",
   "execution_count": 835,
   "metadata": {},
   "outputs": [
    {
     "name": "stdout",
     "output_type": "stream",
     "text": [
      "339.2452673840162\n"
     ]
    }
   ],
   "source": [
    "# start = perf_counter()\n",
    "# df[\"translation\"] = df[\"combined_text\"].map(translate_text)\n",
    "# delta = perf_counter() - start\n",
    "# print(delta)"
   ]
  },
  {
   "cell_type": "code",
   "execution_count": 836,
   "metadata": {},
   "outputs": [],
   "source": [
    "# df.to_csv(\"sharechat_annotated_translated.csv\", index=False)"
   ]
  },
  {
   "cell_type": "code",
   "execution_count": 838,
   "metadata": {},
   "outputs": [],
   "source": [
    "df = pd.read_csv(\"sharechat_annotated_translated.csv\", index_col=None)"
   ]
  },
  {
   "cell_type": "code",
   "execution_count": 842,
   "metadata": {},
   "outputs": [],
   "source": [
    "df[\"translation\"] = np.where(df[\"translation\"]!=df[\"translation\"], \"\", df[\"translation\"])"
   ]
  },
  {
   "cell_type": "code",
   "execution_count": 843,
   "metadata": {},
   "outputs": [],
   "source": [
    "def get_entities(text):\n",
    "    entities = []\n",
    "    doc = nlp(text)\n",
    "    for ent in doc.ents:\n",
    "#         if ent.label_ in [\"PERSON\", \"NORP\", \"ORG\", \"GPE\"]:\n",
    "        entities.append(ent.text)\n",
    "    return entities"
   ]
  },
  {
   "cell_type": "code",
   "execution_count": 845,
   "metadata": {},
   "outputs": [],
   "source": [
    "df[\"named_entities\"] = df[\"translation\"].map(get_entities)"
   ]
  },
  {
   "cell_type": "code",
   "execution_count": 846,
   "metadata": {},
   "outputs": [],
   "source": [
    "df[\"entities_count\"] = df[\"named_entities\"].map(len)"
   ]
  },
  {
   "cell_type": "code",
   "execution_count": 852,
   "metadata": {},
   "outputs": [],
   "source": [
    "# Drop columns that won't be required\n",
    "drop_cols = [\n",
    "        \"tag_name\", \"tag_translation\", \"timestamp\", \n",
    "        \"caption\", \"text\", \"filename\",\n",
    "        \"datetime\", \"extracted_text\", \"named_entities\", \"combined_text\"]"
   ]
  },
  {
   "cell_type": "markdown",
   "metadata": {},
   "source": [
    "## Preprocessing"
   ]
  },
  {
   "cell_type": "code",
   "execution_count": 908,
   "metadata": {},
   "outputs": [],
   "source": [
    "# Train test split\n",
    "X = df.drop(\"claim\", axis=1)\n",
    "y = df[\"claim\"]\n",
    "X_train, X_test, y_train, y_test = train_test_split(X, y, test_size=0.2, random_state=0)"
   ]
  },
  {
   "cell_type": "code",
   "execution_count": 909,
   "metadata": {},
   "outputs": [],
   "source": [
    "def prepare_data(df):\n",
    "    # Drop columns that won't be used \n",
    "    df.drop(drop_cols, axis=1, inplace=True)\n",
    "    return df"
   ]
  },
  {
   "cell_type": "code",
   "execution_count": 910,
   "metadata": {},
   "outputs": [],
   "source": [
    "X_train = prepare_data(X_train)"
   ]
  },
  {
   "cell_type": "code",
   "execution_count": 911,
   "metadata": {},
   "outputs": [
    {
     "data": {
      "text/plain": [
       "bucket_name                0\n",
       "external_shares            0\n",
       "likes                      0\n",
       "media_type                 0\n",
       "contains_video            29\n",
       "contains_image            28\n",
       "contains_relevant_meme    28\n",
       "n_hashtags                 0\n",
       "hour                       0\n",
       "n_words                    0\n",
       "translation                0\n",
       "entities_count             0\n",
       "dtype: int64"
      ]
     },
     "execution_count": 911,
     "metadata": {},
     "output_type": "execute_result"
    }
   ],
   "source": [
    "# Count missing values in each column\n",
    "X_train.isna().sum()"
   ]
  },
  {
   "cell_type": "code",
   "execution_count": 912,
   "metadata": {},
   "outputs": [],
   "source": [
    "# Impute nans in categorical columns\n",
    "imputer = SimpleImputer(strategy=\"most_frequent\")"
   ]
  },
  {
   "cell_type": "code",
   "execution_count": 913,
   "metadata": {},
   "outputs": [],
   "source": [
    "columns = X_train.columns\n",
    "X_train = pd.DataFrame(imputer.fit_transform(X_train))\n",
    "X_train.columns = columns"
   ]
  },
  {
   "cell_type": "code",
   "execution_count": 914,
   "metadata": {},
   "outputs": [
    {
     "data": {
      "text/plain": [
       "<matplotlib.axes._subplots.AxesSubplot at 0x7fe2b8bafd30>"
      ]
     },
     "execution_count": 914,
     "metadata": {},
     "output_type": "execute_result"
    },
    {
     "data": {
      "image/png": "[encoded data removed]",
      "text/plain": [
       "<Figure size 432x288 with 1 Axes>"
      ]
     },
     "metadata": {
      "needs_background": "light"
     },
     "output_type": "display_data"
    }
   ],
   "source": [
    "# Inspect numeric variables for outliers\n",
    "df.boxplot(column=\"n_words\")"
   ]
  },
  {
   "cell_type": "code",
   "execution_count": 915,
   "metadata": {},
   "outputs": [
    {
     "data": {
      "text/plain": [
       "<matplotlib.axes._subplots.AxesSubplot at 0x7fe2b5cb6220>"
      ]
     },
     "execution_count": 915,
     "metadata": {},
     "output_type": "execute_result"
    },
    {
     "data": {
      "image/png": "[encoded data removed]",
      "text/plain": [
       "<Figure size 432x288 with 1 Axes>"
      ]
     },
     "metadata": {
      "needs_background": "light"
     },
     "output_type": "display_data"
    }
   ],
   "source": [
    "df.boxplot(column=\"n_hashtags\")"
   ]
  },
  {
   "cell_type": "code",
   "execution_count": 916,
   "metadata": {},
   "outputs": [
    {
     "data": {
      "text/plain": [
       "<matplotlib.axes._subplots.AxesSubplot at 0x7fe2b8d26be0>"
      ]
     },
     "execution_count": 916,
     "metadata": {},
     "output_type": "execute_result"
    },
    {
     "data": {
      "image/png": "[encoded data removed]",
      "text/plain": [
       "<Figure size 432x288 with 1 Axes>"
      ]
     },
     "metadata": {
      "needs_background": "light"
     },
     "output_type": "display_data"
    }
   ],
   "source": [
    "df.boxplot(column=\"external_shares\")"
   ]
  },
  {
   "cell_type": "code",
   "execution_count": 917,
   "metadata": {},
   "outputs": [
    {
     "data": {
      "text/plain": [
       "<matplotlib.axes._subplots.AxesSubplot at 0x7fe2b8b7ab50>"
      ]
     },
     "execution_count": 917,
     "metadata": {},
     "output_type": "execute_result"
    },
    {
     "data": {
      "image/png": "[encoded data removed]",
      "text/plain": [
       "<Figure size 432x288 with 1 Axes>"
      ]
     },
     "metadata": {
      "needs_background": "light"
     },
     "output_type": "display_data"
    }
   ],
   "source": [
    "df.boxplot(column=\"likes\")"
   ]
  },
  {
   "cell_type": "code",
   "execution_count": 918,
   "metadata": {},
   "outputs": [
    {
     "data": {
      "text/plain": [
       "<matplotlib.axes._subplots.AxesSubplot at 0x7fe2b8fd96a0>"
      ]
     },
     "execution_count": 918,
     "metadata": {},
     "output_type": "execute_result"
    },
    {
     "data": {
      "image/png": "[encoded data removed]",
      "text/plain": [
       "<Figure size 432x288 with 1 Axes>"
      ]
     },
     "metadata": {
      "needs_background": "light"
     },
     "output_type": "display_data"
    }
   ],
   "source": [
    "df.boxplot(column=\"entities_count\")"
   ]
  },
  {
   "cell_type": "code",
   "execution_count": 919,
   "metadata": {},
   "outputs": [],
   "source": [
    "# Standardize numeric variables\n",
    "scaler = StandardScaler()\n",
    "num = [\"n_words\", \"n_hashtags\", \"likes\", \"external_shares\", \"entities_count\"]\n",
    "num_cols = pd.DataFrame(scaler.fit_transform(X_train[num]))\n",
    "num_cols.columns = num"
   ]
  },
  {
   "cell_type": "code",
   "execution_count": 920,
   "metadata": {},
   "outputs": [],
   "source": [
    "# Convert categorical columns\n",
    "cat = [\n",
    "    \"media_type\", \"contains_video\", \"contains_image\", \n",
    "    \"contains_relevant_meme\", \"bucket_name\", \"hour\"]\n",
    "X_train[cat] = X_train[cat].apply(pd.Categorical)"
   ]
  },
  {
   "cell_type": "code",
   "execution_count": 921,
   "metadata": {},
   "outputs": [],
   "source": [
    "# Dummify categorical columns\n",
    "cat_cols = pd.get_dummies(X_train[cat], drop_first = True)"
   ]
  },
  {
   "cell_type": "code",
   "execution_count": 922,
   "metadata": {},
   "outputs": [],
   "source": [
    "X_train = pd.concat([cat_cols, num_cols], axis=1)"
   ]
  },
  {
   "cell_type": "code",
   "execution_count": 923,
   "metadata": {},
   "outputs": [],
   "source": [
    "# Encode target variable\n",
    "label_encoder = LabelEncoder()\n",
    "y_train = label_encoder.fit_transform(y_train)"
   ]
  },
  {
   "cell_type": "code",
   "execution_count": 924,
   "metadata": {},
   "outputs": [],
   "source": [
    "# Apply preprocessing to test set\n",
    "X_test = prepare_data(X_test)\n",
    "\n",
    "columns = X_test.columns\n",
    "X_test = pd.DataFrame(imputer.transform(X_test))\n",
    "X_test.columns = columns\n",
    "\n",
    "num_cols = pd.DataFrame(scaler.transform(X_test[num]))\n",
    "num_cols.columns = num\n",
    "\n",
    "X_test[cat] = X_test[cat].apply(pd.Categorical)\n",
    "\n",
    "cat_cols = pd.get_dummies(X_test[cat], drop_first = True)\n",
    "X_test = pd.concat([cat_cols, num_cols], axis=1)\n",
    "\n",
    "y_test = label_encoder.transform(y_test)"
   ]
  },
  {
   "cell_type": "code",
   "execution_count": 925,
   "metadata": {},
   "outputs": [],
   "source": [
    "# Defining a function to fix column difference between train and test sets\n",
    "\n",
    "# This will go inside the main function\n",
    "def add_missing_dummy_columns(test_set, train_columns):\n",
    "    # d = test set, columns = train set columns \n",
    "    missing_cols = set(train_columns) - set(test_set.columns)\n",
    "    for c in missing_cols:\n",
    "        test_set[c] = 0 # add missing columns to test set with empty column values\n",
    "        \n",
    "# This is the main function     \n",
    "def fix_columns(test_set, train_columns):  \n",
    "\n",
    "    add_missing_dummy_columns(test_set, train_columns)\n",
    "\n",
    "    # make sure we have all the columns we need\n",
    "    assert(set(train_columns) - set(test_set.columns) == set())\n",
    "\n",
    "    extra_cols = set(test_set.columns) - set(train_columns) # these are the extra cols in the test set\n",
    "    if extra_cols:\n",
    "        print (\"extra columns:\", extra_cols)\n",
    "\n",
    "    test_set = test_set[train_columns] # keep only columns that are in the train set \n",
    "    return test_set\n"
   ]
  },
  {
   "cell_type": "code",
   "execution_count": 926,
   "metadata": {},
   "outputs": [
    {
     "name": "stdout",
     "output_type": "stream",
     "text": [
      "extra columns: {'bucket_name_राजनीति '}\n"
     ]
    }
   ],
   "source": [
    "X_test = fix_columns(X_test, X_train.columns)"
   ]
  },
  {
   "cell_type": "code",
   "execution_count": 927,
   "metadata": {},
   "outputs": [],
   "source": [
    "# Sanity check\n",
    "assert(set(X_train.columns) - set(X_test.columns) == set())"
   ]
  },
  {
   "cell_type": "code",
   "execution_count": 929,
   "metadata": {},
   "outputs": [],
   "source": [
    "vifs = pd.Series(np.linalg.inv(X_train.corr().values).diagonal(), index=X_train.corr().index)"
   ]
  },
  {
   "cell_type": "code",
   "execution_count": 930,
   "metadata": {},
   "outputs": [
    {
     "data": {
      "text/plain": [
       "media_type_text                                        1.229869\n",
       "media_type_video                                       2.485142\n",
       "contains_video_Other                                   1.504485\n",
       "contains_video_Yes, contains violent incident          1.119002\n",
       "contains_video_Yes, person is performing for camera    1.910311\n",
       "contains_image_Does not contain human(s)               1.204865\n",
       "contains_image_No, does not contain images             1.349313\n",
       "contains_relevant_meme_Yes                             1.241724\n",
       "bucket_name_ख़बरें                                     1.076952\n",
       "bucket_name_ख़बरें और राजनीति                          2.358626\n",
       "bucket_name_देश प्रेम                                  2.246841\n",
       "bucket_name_फिल्मी दुनिया                              1.021826\n",
       "bucket_name_लॉकडाउन                                    1.044512\n",
       "bucket_name_शेयरचैट trends                             1.084896\n",
       "bucket_name_स्वास्थ्य                                  2.476996\n",
       "hour_1                                                 3.865823\n",
       "hour_2                                                 4.218795\n",
       "hour_3                                                 4.717959\n",
       "hour_4                                                 5.885068\n",
       "hour_5                                                 5.128828\n",
       "hour_6                                                 5.826506\n",
       "hour_7                                                 4.723041\n",
       "hour_8                                                 5.485218\n",
       "hour_9                                                 5.477893\n",
       "hour_10                                                5.438023\n",
       "hour_11                                                4.832622\n",
       "hour_12                                                5.278873\n",
       "hour_13                                                4.992903\n",
       "hour_14                                                6.359853\n",
       "hour_15                                                6.402905\n",
       "hour_16                                                9.596046\n",
       "hour_17                                                7.618597\n",
       "hour_18                                                6.069227\n",
       "hour_19                                                4.106700\n",
       "hour_20                                                2.473522\n",
       "hour_21                                                2.006539\n",
       "hour_22                                                2.052570\n",
       "hour_23                                                2.026664\n",
       "n_words                                                2.848807\n",
       "n_hashtags                                             1.133567\n",
       "likes                                                  3.171288\n",
       "external_shares                                        3.174666\n",
       "entities_count                                         2.802365\n",
       "dtype: float64"
      ]
     },
     "execution_count": 930,
     "metadata": {},
     "output_type": "execute_result"
    }
   ],
   "source": [
    "vifs"
   ]
  },
  {
   "cell_type": "code",
   "execution_count": 931,
   "metadata": {},
   "outputs": [],
   "source": [
    "# Drop columns with high VIFs\n",
    "vif_cols = [\"hour_4\", \"hour_5\", \"hour_6\", \"hour_8\", \"hour_9\", \"hour_10\", \"hour_12\", \"hour_14\", \"hour_15\", \"hour_16\", \"hour_17\", \"hour_18\"]\n",
    "X_train.drop(vif_cols, axis=1, inplace=True)\n",
    "X_test.drop(vif_cols, axis=1, inplace=True)"
   ]
  },
  {
   "cell_type": "markdown",
   "metadata": {},
   "source": [
    "## Model building"
   ]
  },
  {
   "cell_type": "code",
   "execution_count": 932,
   "metadata": {},
   "outputs": [
    {
     "name": "stdout",
     "output_type": "stream",
     "text": [
      "Optimization terminated successfully.\n",
      "         Current function value: 0.550029\n",
      "         Iterations 24\n"
     ]
    }
   ],
   "source": [
    "logit_model = sm.Logit(y_train, X_train, random_state=0)\n",
    "result = logit_model.fit(maxiter=100)"
   ]
  },
  {
   "cell_type": "code",
   "execution_count": 934,
   "metadata": {},
   "outputs": [
    {
     "name": "stdout",
     "output_type": "stream",
     "text": [
      "                           Logit Regression Results                           \n",
      "==============================================================================\n",
      "Dep. Variable:                      y   No. Observations:                 1760\n",
      "Model:                          Logit   Df Residuals:                     1729\n",
      "Method:                           MLE   Df Model:                           30\n",
      "Date:                Thu, 26 Nov 2020   Pseudo R-squ.:                  0.1752\n",
      "Time:                        13:53:53   Log-Likelihood:                -968.05\n",
      "converged:                       True   LL-Null:                       -1173.6\n",
      "Covariance Type:            nonrobust   LLR p-value:                 1.561e-68\n",
      "=======================================================================================================================\n",
      "                                                          coef    std err          z      P>|z|      [0.025      0.975]\n",
      "-----------------------------------------------------------------------------------------------------------------------\n",
      "media_type_text                                        -0.3668      0.223     -1.644      0.100      -0.804       0.071\n",
      "media_type_video                                       -0.4429      0.221     -2.001      0.045      -0.877      -0.009\n",
      "contains_video_Other                                    1.1526      0.296      3.893      0.000       0.572       1.733\n",
      "contains_video_Yes, contains violent incident           1.8998      0.621      3.061      0.002       0.683       3.116\n",
      "contains_video_Yes, person is performing for camera     0.9341      0.255      3.663      0.000       0.434       1.434\n",
      "contains_image_Does not contain human(s)                0.4545      0.200      2.274      0.023       0.063       0.846\n",
      "contains_image_No, does not contain images             -0.5503      0.119     -4.610      0.000      -0.784      -0.316\n",
      "contains_relevant_meme_Yes                             -0.6847      0.141     -4.872      0.000      -0.960      -0.409\n",
      "bucket_name_ख़बरें                                      1.6520      0.696      2.374      0.018       0.288       3.016\n",
      "bucket_name_ख़बरें और राजनीति                           0.5485      0.130      4.216      0.000       0.294       0.804\n",
      "bucket_name_देश प्रेम                                  -0.8971      0.169     -5.293      0.000      -1.229      -0.565\n",
      "bucket_name_फिल्मी दुनिया                               0.9296      1.438      0.647      0.518      -1.888       3.748\n",
      "bucket_name_लॉकडाउन                                  -242.7106   2.36e+52  -1.03e-50      1.000   -4.63e+52    4.63e+52\n",
      "bucket_name_शेयरचैट trends                              1.2577      1.086      1.158      0.247      -0.872       3.387\n",
      "bucket_name_स्वास्थ्य                                   0.3665      0.127      2.895      0.004       0.118       0.615\n",
      "hour_1                                                 -0.4796      0.337     -1.424      0.154      -1.140       0.180\n",
      "hour_2                                                 -0.5903      0.322     -1.835      0.066      -1.221       0.040\n",
      "hour_3                                                 -0.6064      0.291     -2.084      0.037      -1.176      -0.036\n",
      "hour_7                                                  0.1138      0.274      0.415      0.678      -0.424       0.652\n",
      "hour_11                                                -0.3383      0.281     -1.204      0.229      -0.889       0.212\n",
      "hour_13                                                 0.0073      0.271      0.027      0.979      -0.524       0.538\n",
      "hour_19                                                -0.7444      0.354     -2.103      0.035      -1.438      -0.051\n",
      "hour_20                                                -1.0762      0.573     -1.879      0.060      -2.199       0.046\n",
      "hour_21                                                -0.1635      0.538     -0.304      0.761      -1.218       0.891\n",
      "hour_22                                                -0.5354      0.604     -0.887      0.375      -1.719       0.648\n",
      "hour_23                                                -1.4127      0.848     -1.667      0.096      -3.074       0.249\n",
      "n_words                                                -0.1085      0.165     -0.658      0.511      -0.432       0.215\n",
      "n_hashtags                                             -0.1046      0.061     -1.707      0.088      -0.225       0.015\n",
      "likes                                                  -0.5341      0.157     -3.406      0.001      -0.841      -0.227\n",
      "external_shares                                         0.3543      0.122      2.896      0.004       0.114       0.594\n",
      "entities_count                                          1.1840      0.206      5.756      0.000       0.781       1.587\n",
      "=======================================================================================================================\n"
     ]
    }
   ],
   "source": [
    "with pd.option_context('display.max_rows', None, 'display.max_columns', None):\n",
    "    print(result.summary())"
   ]
  },
  {
   "cell_type": "code",
   "execution_count": 935,
   "metadata": {},
   "outputs": [],
   "source": [
    "# Keep features with significant p-values\n",
    "keep = [\n",
    "    \"media_type_video\", \"contains_video_Other\", \"contains_video_Yes, contains violent incident\", \"contains_video_Yes, person is performing for camera\", \n",
    "    \"contains_image_Does not contain human(s)\", \"contains_image_No, does not contain images\", \"contains_relevant_meme_Yes\", \"bucket_name_ख़बरें और राजनीति\", \n",
    "    \"bucket_name_ख़बरें\", \"bucket_name_देश प्रेम \", \"bucket_name_स्वास्थ्य\", \"hour_3\", \"hour_19\", \"likes\", \"external_shares\", \"entities_count\"\n",
    "]"
   ]
  },
  {
   "cell_type": "code",
   "execution_count": 936,
   "metadata": {},
   "outputs": [],
   "source": [
    "X_train = X_train[keep]\n",
    "X_test = X_test[keep]"
   ]
  },
  {
   "cell_type": "code",
   "execution_count": 937,
   "metadata": {},
   "outputs": [
    {
     "name": "stdout",
     "output_type": "stream",
     "text": [
      "0.7170454545454545\n",
      "0.6818181818181818\n"
     ]
    }
   ],
   "source": [
    "clf = LogisticRegression(random_state=0).fit(X_train, y_train)\n",
    "pred_train = clf.predict(X_train)\n",
    "pred_test = clf.predict(X_test)\n",
    "print(clf.score(X_train, y_train))\n",
    "print(clf.score(X_test, y_test))"
   ]
  },
  {
   "cell_type": "code",
   "execution_count": 938,
   "metadata": {},
   "outputs": [
    {
     "name": "stdout",
     "output_type": "stream",
     "text": [
      "931 150 348 331\n"
     ]
    }
   ],
   "source": [
    "# Count true / false positives / negatives\n",
    "tn, fp, fn, tp = confusion_matrix(y_train, pred_train).ravel()\n",
    "print(tn, fp, fn, tp)"
   ]
  },
  {
   "cell_type": "code",
   "execution_count": 939,
   "metadata": {},
   "outputs": [
    {
     "name": "stdout",
     "output_type": "stream",
     "text": [
      "211 48 92 89\n"
     ]
    }
   ],
   "source": [
    "tn, fp, fn, tp = confusion_matrix(y_test, pred_test).ravel()\n",
    "print(tn, fp, fn, tp)"
   ]
  },
  {
   "cell_type": "code",
   "execution_count": 940,
   "metadata": {},
   "outputs": [
    {
     "name": "stdout",
     "output_type": "stream",
     "text": [
      "              precision    recall  f1-score   support\n",
      "\n",
      "           0       0.73      0.86      0.79      1081\n",
      "           1       0.69      0.49      0.57       679\n",
      "\n",
      "    accuracy                           0.72      1760\n",
      "   macro avg       0.71      0.67      0.68      1760\n",
      "weighted avg       0.71      0.72      0.70      1760\n",
      "\n"
     ]
    }
   ],
   "source": [
    "# Calculate accuracy metrics\n",
    "print(classification_report(y_train, pred_train))"
   ]
  },
  {
   "cell_type": "code",
   "execution_count": 941,
   "metadata": {},
   "outputs": [
    {
     "name": "stdout",
     "output_type": "stream",
     "text": [
      "              precision    recall  f1-score   support\n",
      "\n",
      "           0       0.70      0.81      0.75       259\n",
      "           1       0.65      0.49      0.56       181\n",
      "\n",
      "    accuracy                           0.68       440\n",
      "   macro avg       0.67      0.65      0.66       440\n",
      "weighted avg       0.68      0.68      0.67       440\n",
      "\n"
     ]
    }
   ],
   "source": [
    "print(classification_report(y_test, pred_test))"
   ]
  },
  {
   "cell_type": "code",
   "execution_count": 942,
   "metadata": {},
   "outputs": [
    {
     "data": {
      "image/png": "[encoded data removed]",
      "text/plain": [
       "<Figure size 432x288 with 1 Axes>"
      ]
     },
     "metadata": {
      "needs_background": "light"
     },
     "output_type": "display_data"
    }
   ],
   "source": [
    "logit_roc_auc = roc_auc_score(y_test, clf.predict(X_test))\n",
    "fpr, tpr, thresholds = roc_curve(y_test, clf.predict_proba(X_test)[:,1])\n",
    "plt.figure()\n",
    "plt.plot(fpr, tpr, label='Logistic Regression (area = %0.2f)' % logit_roc_auc)\n",
    "plt.plot([0, 1], [0, 1],'r--')\n",
    "plt.xlim([0.0, 1.0])\n",
    "plt.ylim([0.0, 1.05])\n",
    "plt.xlabel('False Positive Rate')\n",
    "plt.ylabel('True Positive Rate')\n",
    "plt.title('Receiver operating characteristic')\n",
    "plt.legend(loc=\"lower right\")\n",
    "plt.savefig('Log_ROC')\n",
    "plt.show()"
   ]
  },
  {
   "cell_type": "markdown",
   "metadata": {},
   "source": [
    "## Learning Curves & Model Comparisons"
   ]
  },
  {
   "cell_type": "code",
   "execution_count": 943,
   "metadata": {},
   "outputs": [],
   "source": [
    "# Defining a function to plot a learning curve\n",
    "def plot_learning_curve(estimator, title, X, y, ylim=None, cv=None,\n",
    "                        n_jobs=1, train_sizes=np.linspace(.1, 1.0, 5)):\n",
    "    \n",
    "    plt.figure(figsize = (10, 5))\n",
    "    plt.title(title, fontsize = 14)\n",
    "    if ylim is not None:\n",
    "        plt.ylim(*ylim)\n",
    "    plt.xlabel(\"Training samples\", fontsize = 14)\n",
    "    plt.ylabel(\"Accuracy\", rotation = 90, fontsize = 14)\n",
    "    plt.xticks(fontsize = 12)\n",
    "    plt.yticks(np.arange(.1, 1.0, 0.05), fontsize = 12)\n",
    "    train_sizes, train_scores, test_scores = learning_curve(\n",
    "        estimator, X, y, cv=cv, n_jobs=n_jobs, train_sizes=train_sizes, scoring = 'accuracy')\n",
    "    train_scores_mean = np.mean(train_scores, axis=1)\n",
    "    train_scores_std = np.std(train_scores, axis=1)\n",
    "    test_scores_mean = np.mean(test_scores, axis=1)\n",
    "    test_scores_std = np.std(test_scores, axis=1)\n",
    "    plt.grid()\n",
    "\n",
    "    plt.fill_between(train_sizes, train_scores_mean - train_scores_std,\n",
    "                     train_scores_mean + train_scores_std, alpha=0.1,\n",
    "                     color=\"r\")\n",
    "    plt.fill_between(train_sizes, test_scores_mean - test_scores_std,\n",
    "                     test_scores_mean + test_scores_std, alpha=0.1, color=\"b\")\n",
    "    plt.plot(train_sizes, train_scores_mean, 'o-', color=\"r\",\n",
    "             label=\"Training score\")\n",
    "    plt.plot(train_sizes, test_scores_mean, 'o-', color=\"b\",\n",
    "             label=\"Cross-validation score\")\n",
    "\n",
    "    plt.legend(loc=\"best\")\n",
    "    plt.grid()\n",
    "    return plt"
   ]
  },
  {
   "cell_type": "code",
   "execution_count": 944,
   "metadata": {},
   "outputs": [
    {
     "data": {
      "image/png": "[encoded data removed]",
      "text/plain": [
       "<Figure size 720x360 with 1 Axes>"
      ]
     },
     "metadata": {
      "needs_background": "light"
     },
     "output_type": "display_data"
    }
   ],
   "source": [
    "title = \"Learning Curves (Logistic Regression)\"\n",
    "cv = ShuffleSplit(n_splits=5, test_size=0.2, random_state=0)\n",
    "estimator = LogisticRegression(random_state=0)\n",
    "plot_learning_curve(estimator, title, X_train, y_train, ylim=(0, 1.01), cv=cv, n_jobs=1)\n",
    "plt.show()"
   ]
  },
  {
   "cell_type": "code",
   "execution_count": 948,
   "metadata": {},
   "outputs": [
    {
     "data": {
      "image/png": "[encoded data removed]",
      "text/plain": [
       "<Figure size 720x360 with 1 Axes>"
      ]
     },
     "metadata": {
      "needs_background": "light"
     },
     "output_type": "display_data"
    }
   ],
   "source": [
    "title = \"Learning Curves (XGBoost)\"\n",
    "cv = ShuffleSplit(n_splits=5, test_size=0.2, random_state=0)\n",
    "estimator = XGBClassifier(random_state=0, n_estimators=10, max_depth=3, gamma=10)\n",
    "plot_learning_curve(estimator, title, X_train, y_train, ylim=(0, 1.01), cv=cv, n_jobs=1)\n",
    "plt.show()"
   ]
  },
  {
   "cell_type": "code",
   "execution_count": 949,
   "metadata": {},
   "outputs": [
    {
     "data": {
      "image/png": "[encoded data removed]",
      "text/plain": [
       "<Figure size 720x360 with 1 Axes>"
      ]
     },
     "metadata": {
      "needs_background": "light"
     },
     "output_type": "display_data"
    }
   ],
   "source": [
    "title = \"Learning Curves (SVM)\"\n",
    "cv = ShuffleSplit(n_splits=5, test_size=0.2, random_state=0)\n",
    "estimator = SVC(random_state=0, C=1)\n",
    "plot_learning_curve(estimator, title, X_train, y_train, ylim=(0, 1.01), cv=cv, n_jobs=1)\n",
    "plt.show()"
   ]
  },
  {
   "cell_type": "code",
   "execution_count": null,
   "metadata": {},
   "outputs": [],
   "source": []
  }
 ],
 "metadata": {
  "finalized": {
   "timestamp": 1595852529951,
   "trusted": true
  },
  "kernelspec": {
   "display_name": "Python 3",
   "language": "python",
   "name": "python3"
  },
  "language_info": {
   "codemirror_mode": {
    "name": "ipython",
    "version": 3
   },
   "file_extension": ".py",
   "mimetype": "text/x-python",
   "name": "python",
   "nbconvert_exporter": "python",
   "pygments_lexer": "ipython3",
   "version": "3.8.3"
  }
 },
 "nbformat": 4,
 "nbformat_minor": 4
}
